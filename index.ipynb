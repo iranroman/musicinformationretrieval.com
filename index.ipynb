{
 "cells": [
  {
   "cell_type": "markdown",
   "metadata": {},
   "source": [
    "<a href=\"https://github.com/stevetjoa/musicinformationretrieval.com\"><img style=\"position: absolute; top: 0; right: 0; border: 0;\" src=\"https://camo.githubusercontent.com/a6677b08c955af8400f44c6298f40e7d19cc5b2d/68747470733a2f2f73332e616d617a6f6e6177732e636f6d2f6769746875622f726962626f6e732f666f726b6d655f72696768745f677261795f3664366436642e706e67\" alt=\"Fork me on GitHub\" data-canonical-src=\"https://s3.amazonaws.com/github/ribbons/forkme_right_gray_6d6d6d.png\"></a>"
   ]
  },
  {
   "cell_type": "markdown",
   "metadata": {},
   "source": [
    "# Notes on Music Information Retrieval"
   ]
  },
  {
   "cell_type": "markdown",
   "metadata": {},
   "source": [
    "## Introduction"
   ]
  },
  {
   "cell_type": "markdown",
   "metadata": {},
   "source": [
    "1.   [**About This Site**](about.html) ([ipynb](about.ipynb)) Start here!\n",
    "1.   [About the book *Fundamentals of Music Processing* with slides](about_fmp.html) ([ipynb](about_fmp.ipynb))\n",
    "1.   [About the CCRMA Workshop on Music Information Retrieval](about_ccrma_workshop.html) ([ipynb](about_ccrma_workshop.ipynb))\n",
    "1.   [What is MIR?](why_mir.html) ([ipynb](why_mir.ipynb))\n",
    "1.   [Python Basics and Dependencies](python_basics.html) ([ipynb](python_basics.ipynb))\n",
    "1.   [Jupyter Basics](get_good_at_ipython.html) ([ipynb](get_good_at_ipython.ipynb))\n",
    "1.   [Jupyter Audio Basics](ipython_audio.html) ([ipynb](ipython_audio.ipynb))\n",
    "1.   [SoX and ffmpeg](sox_and_ffmpeg.html) ([ipynb](sox_and_ffmpeg.ipynb))\n",
    "1.   [NumPy and SciPy Basics](numpy_basics.html) ([ipynb](numpy_basics.ipynb))\n",
    "1.   [Alphabetical Index of Terms](alphabetical_index.html) ([ipynb](alphabetical_index.ipynb))"
   ]
  },
  {
   "cell_type": "markdown",
   "metadata": {},
   "source": [
    "## Music Representations"
   ]
  },
  {
   "cell_type": "markdown",
   "metadata": {},
   "source": [
    "1.  [Sheet Music Representations](sheet_music_representations.html) ([ipynb](sheet_music_representations.ipynb))\n",
    "1.  [Symbolic Representations](symbolic_representations.html) ([ipynb](symbolic_representations.ipynb))\n",
    "1.  [Audio Representation](audio_representation.html) ([ipynb](audio_representation.ipynb))\n",
    "1.  [Tuning Systems](tuning_systems.html) ([ipynb](tuning_systems.ipynb))\n",
    "1.  [MIDI Note to Frequency Conversion Table](midi_conversion_table.html) ([ipynb](midi_conversion_table.ipynb))\n",
    "1.  [Understanding Audio Features through Sonification](feature_sonification.html) ([ipynb](feature_sonification.ipynb))"
   ]
  },
  {
   "cell_type": "markdown",
   "metadata": {},
   "source": [
    "## Signal Analysis and Feature Extraction"
   ]
  },
  {
   "cell_type": "markdown",
   "metadata": {},
   "source": [
    "1.  [Basic Feature Extraction](basic_feature_extraction.html) ([ipynb](basic_feature_extraction.ipynb))\n",
    "1.  [Segmentation](segmentation.html) ([ipynb](segmentation.ipynb))\n",
    "1.  [Energy and RMSE](energy.html) ([ipynb](energy.ipynb))\n",
    "1.  [Zero Crossing Rate](zcr.html) ([ipynb](zcr.ipynb))\n",
    "1.  [Fourier Transform](fourier_transform.html) ([ipynb](fourier_transform.ipynb))\n",
    "1.  [Short-time Fourier Transform and Spectrogram](stft.html) ([ipynb](stft.ipynb))\n",
    "1.  [Constant-Q Transform and Chroma](chroma.html) ([ipynb](chroma.ipynb))\n",
    "1.  [Video: Chroma Features](video_chroma.html) ([ipynb](video_chroma.ipynb))\n",
    "1.  [Magnitude Scaling](magnitude_scaling.html) ([ipynb](magnitude_scaling.ipynb))\n",
    "1.  [Spectral Features](spectral_features.html) ([ipynb](spectral_features.ipynb))\n",
    "1.  [Autocorrelation](autocorrelation.html) ([ipynb](autocorrelation.ipynb))\n",
    "1.  [Pitch Transcription Exercise](pitch_transcription_exercise.html) ([ipynb](pitch_transcription_exercise.ipynb))"
   ]
  },
  {
   "cell_type": "markdown",
   "metadata": {},
   "source": [
    "## Rhythm, Tempo, and Beat Tracking"
   ]
  },
  {
   "cell_type": "markdown",
   "metadata": {},
   "source": [
    "1.  [Novelty Functions](novelty_functions.html) ([ipynb](novelty_functions.ipynb))\n",
    "1.  [Peak Picking](peak_picking.html) ([ipynb](peak_picking.ipynb))\n",
    "1.  [Onset Detection](onset_detection.html) ([ipynb](onset_detection.ipynb))\n",
    "1.  [Onset-based Segmentation with Backtracking](onset_segmentation.html) ([ipynb](onset_segmentation.ipynb))\n",
    "1.  [Tempo Estimation](tempo_estimation.html) ([ipynb](tempo_estimation.ipynb))\n",
    "1.  [Beat Tracking](beat_tracking.html) ([ipynb](beat_tracking.ipynb))\n",
    "1.  [Video: Tempo and Beat Tracking](video_tempo_beat_tracking.html) ([ipynb](video_tempo_beat_tracking.ipynb))\n",
    "1.  [Drum Transcription using ADTLib](adtlib.html) ([ipynb](adtlib.ipynb))"
   ]
  },
  {
   "cell_type": "markdown",
   "metadata": {},
   "source": [
    "## Machine Learning"
   ]
  },
  {
   "cell_type": "markdown",
   "metadata": {},
   "source": [
    "1.  [K-Means Clustering](kmeans.html) ([ipynb](kmeans.ipynb))\n",
    "1.  [Exercise: Unsupervised Instrument Classification using K-Means](kmeans_instrument_classification.html) ([ipynb](kmeans_instrument_classification.ipynb))\n",
    "1.  [Neural Networks](neural_networks.html) ([ipynb](neural_networks.ipynb))\n",
    "1.  [Genre Recognition](genre_recognition.html) ([ipynb](genre_recognition.ipynb))\n",
    "1.  [Exercise: Genre Recognition](exercise_genre_recognition.html) ([ipynb](exercise_genre_recognition.ipynb))"
   ]
  },
  {
   "cell_type": "markdown",
   "metadata": {},
   "source": [
    "## Evaluation"
   ]
  },
  {
   "cell_type": "markdown",
   "metadata": {},
   "source": [
    "1.  [Introduction to `mir_eval`](intro_mir_eval.html) ([ipynb](intro_mir_eval.ipynb))\n",
    "1.  [Onset Detection](evaluation_onset.html) ([ipynb](evaluation_onset.ipynb))\n",
    "1.  [Beat Tracking](evaluation_beat.html) ([ipynb](evaluation_beat.ipynb))\n",
    "1.  [Chord Estimation](evaluation_chord.html) ([ipynb](evaluation_chord.ipynb))"
   ]
  },
  {
   "cell_type": "markdown",
   "metadata": {},
   "source": [
    "## Music Synchronization"
   ]
  },
  {
   "cell_type": "markdown",
   "metadata": {},
   "source": [
    "1. [Dynamic Programming](dp.html) ([ipynb](dp.ipynb))\n",
    "1. [Longest Common Subsequence](lcs.html) ([ipynb](lcs.ipynb))\n",
    "1. [Dynamic Time Warping](dtw.html) ([ipynb](dtw.ipynb))\n",
    "1. [Dynamic Time Warping Example](dtw_example.html) ([ipynb](dtw_example.ipynb))"
   ]
  },
  {
   "cell_type": "markdown",
   "metadata": {},
   "source": [
    "## Music Structure Analysis"
   ]
  },
  {
   "cell_type": "markdown",
   "metadata": {},
   "source": [
    "1.  [Mel-Frequency Cepstral Coefficients](mfcc.html) ([ipynb](mfcc.ipynb))"
   ]
  },
  {
   "cell_type": "markdown",
   "metadata": {},
   "source": [
    "## Content-Based Audio Retrieval"
   ]
  },
  {
   "cell_type": "markdown",
   "metadata": {},
   "source": [
    "1. [Locality Sensitive Hashing](lsh_fingerprinting.html) ([ipynb](lsh_fingerprinting.ipynb))"
   ]
  },
  {
   "cell_type": "markdown",
   "metadata": {},
   "source": [
    "## Musically Informed Audio Decomposition"
   ]
  },
  {
   "cell_type": "markdown",
   "metadata": {},
   "source": [
    "1.  [Principal Component Analysis](pca.html) ([ipynb](pca.ipynb))\n",
    "1.  [Nonnegative Matrix Factorization](nmf.html) ([ipynb](nmf.ipynb))\n",
    "1.  [NMF Audio Mosaicing](nmf_audio_mosaic.html) ([ipynb](nmf_audio_mosaic.ipynb))\n",
    "1.  [Harmonic-Percussive Source Separation](hpss.html) ([ipynb](hpss.ipynb))"
   ]
  },
  {
   "cell_type": "markdown",
   "metadata": {},
   "source": [
    "## Just For Fun"
   ]
  },
  {
   "cell_type": "markdown",
   "metadata": {},
   "source": [
    "1. [Real-time Spectrogram](realtime_spectrogram.html) ([ipynb](realtime_spectrogram.ipynb))\n",
    "1. [THX Logo Theme](thx_logo_theme.html) ([ipynb](thx_logo_theme.ipynb))"
   ]
  }
 ],
 "metadata": {
  "kernelspec": {
   "display_name": "Python 3 (ipykernel)",
   "language": "python",
   "name": "python3"
  },
  "language_info": {
   "codemirror_mode": {
    "name": "ipython",
    "version": 3
   },
   "file_extension": ".py",
   "mimetype": "text/x-python",
   "name": "python",
   "nbconvert_exporter": "python",
   "pygments_lexer": "ipython3",
   "version": "3.11.6"
  }
 },
 "nbformat": 4,
 "nbformat_minor": 4
}
