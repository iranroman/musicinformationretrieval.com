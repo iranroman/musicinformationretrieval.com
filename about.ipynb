{
 "cells": [
  {
   "cell_type": "code",
   "execution_count": 1,
   "metadata": {
    "collapsed": false
   },
   "outputs": [
    {
     "data": {
      "text/html": [
       "\n",
       "<script>\n",
       "$(function() {\n",
       "    if ($(\"body.notebook_app\").length == 0) {\n",
       "        $(\".input\").hide(); \n",
       "    }\n",
       "});\n",
       "</script>\n"
      ]
     },
     "metadata": {},
     "output_type": "display_data"
    },
    {
     "data": {
      "text/html": [
       "\n",
       "<button onclick=\"$('.input').show();\">Show input</button>\n",
       "<button onclick=\"$('.input').hide();\">Hide input</button>\n"
      ]
     },
     "metadata": {},
     "output_type": "display_data"
    }
   ],
   "source": [
    "import IPython.display as ipd\n",
    "\n",
    "# Hide code by default when the notebook is exported as HTML.\n",
    "ipd.display_html('''\n",
    "<script>\n",
    "$(function() {\n",
    "    if ($(\"body.notebook_app\").length == 0) {\n",
    "        $(\".input\").hide(); \n",
    "    }\n",
    "});\n",
    "</script>\n",
    "''', raw=True)\n",
    "\n",
    "# Create HTML buttons to show or hide IPython input cells.\n",
    "ipd.display_html('''\n",
    "<button onclick=\"$('.input').show();\">Show input</button>\n",
    "<button onclick=\"$('.input').hide();\">Hide input</button>\n",
    "''', raw=True)"
   ]
  },
  {
   "cell_type": "markdown",
   "metadata": {},
   "source": [
    "[&larr; Back to Index](index.html)"
   ]
  },
  {
   "cell_type": "markdown",
   "metadata": {},
   "source": [
    "# About This Site"
   ]
  },
  {
   "cell_type": "markdown",
   "metadata": {},
   "source": [
    "**musicinformationretrieval.com** is a collection of instructional materials for music information retrieval (MIR). These materials contain a mix of casual conversation, technical discussion, and Python code. \n",
    "\n",
    "These pages, including the one you're reading, are authored using [Jupyter notebooks](http://jupyter.org/), formerly known as [IPython notebooks](https://ipython.org/notebook.html). They are statically hosted using [GitHub Pages](https://pages.github.com/). The GitHub repository is found here: [stevetjoa/stanford-mir](https://github.com/stevetjoa/stanford-mir).\n",
    "\n",
    "This material is used during the annual Summer Workshop on Music Information Retrieval at CCRMA, Stanford University. [Click here for workshop description and registration](https://ccrma.stanford.edu/workshops/music-information-retrieval-mir).\n",
    "\n",
    "This site is maintained by [Steve Tjoa](https://stevetjoa.com). For questions, please email [steve@stevetjoa.com](mailto:steve@stevetjoa.com). Do you have any feedback? Did you find errors or typos? Are you a teacher or researcher and would like to collaborate? Please let me know."
   ]
  },
  {
   "cell_type": "markdown",
   "metadata": {},
   "source": [
    "## People who use this site"
   ]
  },
  {
   "cell_type": "markdown",
   "metadata": {},
   "source": [
    "- Haverford College\n",
    "- Stanford University, [Music 364: Data-Driven Research in Music Cognition](https://ccrma.stanford.edu/courses/364/), [Prof. Blair Kaneshiro](https://ccrma.stanford.edu/~blairbo/)\n",
    "- MIT, [21M.359: Fundamentals of Music Processing](http://musictech.mit.edu/fmp), [Prof. Eran Egozy](http://mta.mit.edu/person/eran-egozy)\n",
    "- Harvard University, Freshman Seminar 24e: The Physics and Applied Physics Freshman Research Laboratory"
   ]
  },
  {
   "cell_type": "markdown",
   "metadata": {},
   "source": [
    "## About *Fundamentals of Music Processing*"
   ]
  },
  {
   "cell_type": "markdown",
   "metadata": {
    "collapsed": false
   },
   "source": [
    "<img src=\"https://images-na.ssl-images-amazon.com/images/I/51q5YtafVsL.jpg\">"
   ]
  },
  {
   "cell_type": "markdown",
   "metadata": {
    "collapsed": true
   },
   "source": [
    "The book [*Fundamentals of Music Processing*](https://www.audiolabs-erlangen.de/fau/professor/mueller/bookFMP) (FMP)  is a textbook by [Meinard Müller](https://www.audiolabs-erlangen.de/fau/professor/mueller), a well-known and prolific researcher in MIR, and published by Springer in 2015.\n",
    "\n",
    "For many years, the field of music information retrieval has suffered from a lack of consolidated texts which unify its many disparate topics. Until now, students and researchers have had to learn about MIR mostly by reading the original research papers -- a daunting task. FMP is perhaps the best attempt to address this issue. It is a self-contained textbook which covers many MIR tasks such as feature extraction, audio-to-score alignment, musical form and structure, chord recognition, beat tracking, fingerprinting, and source separation.\n",
    "\n",
    "We are integrating content from FMP into musicinformationretrieval.com in 2016."
   ]
  },
  {
   "cell_type": "markdown",
   "metadata": {},
   "source": [
    "## About the CCRMA Workshop on Music Information Retrieval"
   ]
  },
  {
   "cell_type": "markdown",
   "metadata": {},
   "source": [
    "The MIR workshop teaches the underlying ideas, approaches, technologies, and practical design of intelligent audio systems using MIR algorithms. It lasts five full days, Monday through Friday. It was founded by [Jay LeBoeuf](https://www.linkedin.com/in/jayleboeuf) (Real Industry, CCRMA consulting professor) in 2008.\n",
    "\n",
    "The workshop is intended for students, researchers, and industry audio engineers who are unfamiliar with the field of music information retrieval (MIR). We demonstrate the technologies enabled by signal processing and machine learning. Lectures cover topics such as low-level feature extraction, higher-level features such as chord estimations, audio similarity clustering, search and retrieval, and design and evaluation of classification systems. Our goal is to make these interdisciplinary technologies and complex algorithms approachable.\n",
    "\n",
    "Knowledge of basic digital audio principles is recommended.  Experience with a scripting language such as Python or Matlab is desired. Students are encouraged to bring their own audio source material for course labs and demonstrations.\n",
    "\n",
    "The workshop consists of half-day lectures, half-day supervised lab sessions, demonstrations, and discussions. Labs allow students to design basic \"intelligent audio systems\" leveraging existing MIR toolboxes, programming environments, and applications. Labs include creation and evaluation of basic instrument recognition, transcription, and real-time audio analysis systems."
   ]
  },
  {
   "cell_type": "markdown",
   "metadata": {},
   "source": [
    "### Instructors"
   ]
  },
  {
   "cell_type": "markdown",
   "metadata": {},
   "source": [
    "Links redirect to that year's wiki page."
   ]
  },
  {
   "cell_type": "markdown",
   "metadata": {},
   "source": [
    "- [2008](https://ccrma.stanford.edu/wiki/MIR_workshop_2008): Jay LeBoeuf\n",
    "- [2009](https://ccrma.stanford.edu/wiki/MIR_workshop_2009): Jay LeBoeuf, Kyogu Lee\n",
    "- [2010](https://ccrma.stanford.edu/wiki/MIR_workshop_2010): Jay LeBoeuf, Rebecca Fiebrink\n",
    "- [2011](https://ccrma.stanford.edu/wiki/MIR_workshop_2011): Jay LeBoeuf, Stephen Pope, Leigh Smith, Steve Tjoa\n",
    "- [2012](https://ccrma.stanford.edu/wiki/MIR_workshop_2012): Jay LeBoeuf, Leigh Smith, Steve Tjoa\n",
    "- [2013](https://ccrma.stanford.edu/wiki/MIR_workshop_2013): Jay LeBoeuf, Leigh Smith, Steve Tjoa\n",
    "- [2014](https://ccrma.stanford.edu/wiki/MIR_workshop_2014): Jay LeBoeuf, Leigh Smith, Steve Tjoa\n",
    "- 2015: Jay LeBoeuf, Leigh Smith, Steve Tjoa\n",
    "- [2016](https://docs.google.com/document/d/1YpuvCxKHUsqbbqEA_0XB_5-jH3e47v0azO1sn_iVV1k/edit?usp=sharing): Steve Tjoa, Jeff Scott"
   ]
  },
  {
   "cell_type": "markdown",
   "metadata": {},
   "source": [
    "### Guest Lecturers"
   ]
  },
  {
   "cell_type": "markdown",
   "metadata": {},
   "source": [
    "- 2011: Rebecca Fiebrink, Doug Eck, George Tzanetakis\n",
    "- 2012: Oscar Celma, Michael Mandel\n",
    "- 2013: Ching-Wei Chen, Nick Bryan, Gautham Mysore\n",
    "- 2014: Stephen Pope, Andreas Ehmann\n",
    "- 2015: Zafar Rafii, Constantinos Dimitriou, Jeff Scott, Aneesh Kartakavi\n",
    "- 2016: Doug Eck, Blair Kaneshiro"
   ]
  },
  {
   "cell_type": "markdown",
   "metadata": {},
   "source": [
    "### Alumni"
   ]
  },
  {
   "cell_type": "markdown",
   "metadata": {},
   "source": [
    "- 2008:\n",
    "- 2009 [[full list](https://ccrma.stanford.edu/wiki/MIR_workshop_2009/Participants)]: Luke Dahl, Mike Gao, Craig Hanson, Jorge Herrera, Denis Lebel, Sang Won Lee, Gautham Mysore, Jeremy Sawruk, Hwan Shim, Diana Siwiak, Steve Tjoa, Elie Noune, James Hughes, Stefan Tomic, Lisa Lim, Fred Barrett\n",
    "- 2010:\n",
    "- 2011: Chris Colatos, Jeff Albert, Kamlesh Lakshminarayanan, Sean Zhang, Eli Stine, David Bird, Gina Collecchia, Dekun Zou, Bill Paseman, John Amuedo\n",
    "- 2012:\n",
    "- 2013: Freddie Sanchez, Linda Barnett, Xuchen Yang, Vivek Kumar, Felipe Loáiciga Espeleta, Haoqing (Panda) Geng\n",
    "- 2014: Krishna Kumar, Owen Campbell, Dan Cartoon, Rob Miller, Davide Fossati, Biagio Gallo, Joel Hunt, Shinobu Yamada, Fredom Luo, Sejin Oh, Phaedon Sinis, Xinyuan Lai, Greg Mertz, Matt Mitchell\n",
    "- 2015: Eric Raymond, Stelios Andrew Stavroulakis, Richard Mendelsohn, Naithan Bosse, Alessio Bazzica, Karthik Yadati, Martha Larson, Stephen Hartzog, Philip Lee, Jaeyoung Choi, Matthew Gallagher, Yule Wu, Mark Renker, Rohit Ainapure, Eric Tarr, Allen Wu, Aaron Hipple\n",
    "- 2016: Arjun Kaul, Aditya Joglekar, Jennifer Smith, Trevor Welch, Ruoxi Zhang, Patricia Robinson, Xingxing Yang, David Heid, Gabriel Lamorie, Kaustuv Kanti Ganguli, Zhengyang Ma, Bernard Wang, Thomas Matthias, Alex Kintzer, Yutong Chen\n"
   ]
  },
  {
   "cell_type": "markdown",
   "metadata": {},
   "source": [
    "[&larr; Back to Index](index.html)"
   ]
  }
 ],
 "metadata": {
  "kernelspec": {
   "display_name": "Python 2",
   "language": "python",
   "name": "python2"
  },
  "language_info": {
   "codemirror_mode": {
    "name": "ipython",
    "version": 2
   },
   "file_extension": ".py",
   "mimetype": "text/x-python",
   "name": "python",
   "nbconvert_exporter": "python",
   "pygments_lexer": "ipython2",
   "version": "2.7.10"
  }
 },
 "nbformat": 4,
 "nbformat_minor": 0
}
