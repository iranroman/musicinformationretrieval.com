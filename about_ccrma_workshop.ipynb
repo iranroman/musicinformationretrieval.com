{
 "cells": [
  {
   "cell_type": "markdown",
   "metadata": {
    "id": "vBJyCQJmCLAS"
   },
   "source": [
    "[musicinformationretrieval.com](https://musicinformationretrieval.com)"
   ]
  },
  {
   "cell_type": "markdown",
   "metadata": {
    "id": "S-Vxoi9OCLAX"
   },
   "source": [
    "# About the CCRMA Workshop on Music Information Retrieval"
   ]
  },
  {
   "cell_type": "markdown",
   "metadata": {
    "id": "-AmpVESBCLAY"
   },
   "source": [
    "<img src=\"https://s3-us-west-2.amazonaws.com/musicinformationretrieval.com/img/ccrma2018_group.jpg\" />\n",
    "\n",
    "*2018 CCRMA MIR Workshop participants. More photos: [2018](https://photos.app.goo.gl/GDQqCzR3NpuzT8es9) [2015](https://goo.gl/photos/iE27FUUFsuVfpMoA6)*"
   ]
  },
  {
   "cell_type": "markdown",
   "metadata": {
    "id": "6UbLlcw1CLAZ"
   },
   "source": [
    "## Testimonials"
   ]
  },
  {
   "cell_type": "markdown",
   "metadata": {
    "id": "zlTXj3CHCLAZ"
   },
   "source": [
    "\"You guys put together a really fantastic workshop.\"\n",
    "\n",
    "\"I really enjoyed the workshop. It was very well executed and exceeded my expectations in the scope of material covered.\"\n",
    "\n",
    "\"Well planned and thoughtful.\"\n",
    "\n",
    "\"My own participation in this course started me down a path that I couldn't have foreseen and landed me several music tech jobs with startups and now an established company. Highly recommend this workshop!\"\n",
    "\n",
    "\"It was a fun week. I learned a lot, and met some very cool people. That week helped shape where I am now in a couple of ways.\"\n",
    "\n",
    "\"I'd take this course again, if my schedule permits. It's a very cool introduction to Information Retrieval and Machine Learning through Music, for sure. Definitely recommended!\"\n",
    "\n",
    "\"This was a great introduction to the field of MIR which I am now applying to human studies of the cognitive neuroscience of music.\"\n",
    "\n",
    "\"This is a fantastic workshop. I'd also love to take it again when I find the time.\""
   ]
  },
  {
   "cell_type": "markdown",
   "metadata": {
    "id": "-W5qm55aCLAa"
   },
   "source": [
    "## About the Workshop"
   ]
  },
  {
   "cell_type": "markdown",
   "metadata": {
    "id": "G2I_xTq7CLAb"
   },
   "source": [
    "The Stanford CCRMA Workshop on Music Information Retrieval (MIR) teaches the underlying ideas, approaches, technologies, and practical design of intelligent audio systems using MIR algorithms. It lasts five full days, Monday through Friday. It was founded by [Jay LeBoeuf](https://www.linkedin.com/in/jayleboeuf) (Real Industry, CCRMA consulting professor) in 2008.\n",
    "\n",
    "The workshop is intended for students, researchers, musicians, and engineers who want to learn more about music information retrieval (MIR). We demonstrate technologies enabled by signal processing and machine learning such as feature extraction, chord estimations, audio similarity clustering, search and retrieval, music synchronization, signal decomposition, rhythm and tempo, and design and evaluation of machine learning systems. Our goal is to introduce these interdisciplinary technologies and complex algorithms in an approachable way.\n",
    "\n",
    "Knowledge of basic digital audio principles is recommended.  Some experience with any programming language -- whether Python, Matlab, C, C++, Java, Javascript, or other -- is desired.\n",
    "\n",
    "The workshop consists of lectures, demonstrations, discussions, and interactive lab sessions. Labs allow students to design intelligent audio systems leveraging existing MIR toolboxes, programming environments, and applications."
   ]
  },
  {
   "cell_type": "markdown",
   "metadata": {
    "id": "y29RtZxWCLAc"
   },
   "source": [
    "## Instructors"
   ]
  },
  {
   "cell_type": "markdown",
   "metadata": {
    "id": "ffldznMgCLAd"
   },
   "source": [
    "Links redirect to that year's wiki page."
   ]
  },
  {
   "cell_type": "markdown",
   "metadata": {
    "id": "LsCdT9RVCLAd"
   },
   "source": [
    "- [2008](https://ccrma.stanford.edu/wiki/MIR_workshop_2008): Jay LeBoeuf\n",
    "- [2009](https://ccrma.stanford.edu/wiki/MIR_workshop_2009): Jay LeBoeuf, Kyogu Lee\n",
    "- [2010](https://ccrma.stanford.edu/wiki/MIR_workshop_2010): Jay LeBoeuf, Rebecca Fiebrink\n",
    "- [2011](https://ccrma.stanford.edu/wiki/MIR_workshop_2011): Jay LeBoeuf, Stephen Pope, Leigh Smith, Steve Tjoa\n",
    "- [2012](https://ccrma.stanford.edu/wiki/MIR_workshop_2012): Jay LeBoeuf, Leigh Smith, Steve Tjoa\n",
    "- [2013](https://ccrma.stanford.edu/wiki/MIR_workshop_2013): Jay LeBoeuf, Leigh Smith, Steve Tjoa\n",
    "- [2014](https://ccrma.stanford.edu/wiki/MIR_workshop_2014): Jay LeBoeuf, Leigh Smith, Steve Tjoa\n",
    "- 2015: Jay LeBoeuf, Leigh Smith, Steve Tjoa\n",
    "- [2016](https://docs.google.com/document/d/1YpuvCxKHUsqbbqEA_0XB_5-jH3e47v0azO1sn_iVV1k/edit?usp=sharing): Steve Tjoa, Jeff Scott\n",
    "- 2017: Steve Tjoa, Jeff Scott\n",
    "- 2018: Steve Tjoa, Meinard Müller, Brian McFee"
   ]
  },
  {
   "cell_type": "markdown",
   "metadata": {
    "id": "qii1df3aCLAe"
   },
   "source": [
    "## Guest Lecturers"
   ]
  },
  {
   "cell_type": "markdown",
   "metadata": {
    "id": "onc1WoykCLAf"
   },
   "source": [
    "- 2011: Rebecca Fiebrink, Doug Eck, George Tzanetakis\n",
    "- 2012: Oscar Celma, Michael Mandel\n",
    "- 2013: Ching-Wei Chen, Nick Bryan, Gautham Mysore\n",
    "- 2014: Stephen Pope, Andreas Ehmann\n",
    "- 2015: Zafar Rafii, Constantinos Dimitriou, Jeff Scott, Aneesh Kartakavi\n",
    "- 2016: Doug Eck, Blair Kaneshiro\n",
    "- 2017: Jonathan Bailey, Stephen Pope"
   ]
  },
  {
   "cell_type": "markdown",
   "metadata": {
    "id": "ZUINDAN3CLAf"
   },
   "source": [
    "## Alumni"
   ]
  },
  {
   "cell_type": "markdown",
   "metadata": {
    "id": "rEgphIzWCLAg"
   },
   "source": [
    "- 2008:\n",
    "- 2009 [[full list](https://ccrma.stanford.edu/wiki/MIR_workshop_2009/Participants)]: Luke Dahl, Mike Gao, Craig Hanson, Jorge Herrera, Denis Lebel, Sang Won Lee, Gautham Mysore, Jeremy Sawruk, Hwan Shim, Diana Siwiak, Steve Tjoa, Elie Noune, James Hughes, Stefan Tomic, Lisa Lim, Fred Barrett\n",
    "- 2010:\n",
    "- 2011: Chris Colatos, Jeff Albert, Kamlesh Lakshminarayanan, Sean Zhang, Eli Stine, David Bird, Gina Collecchia, Dekun Zou, Bill Paseman, John Amuedo\n",
    "- 2012:\n",
    "- 2013: Freddie Sanchez, Linda Barnett, Xuchen Yang, Vivek Kumar, Felipe Loáiciga Espeleta, Haoqing (Panda) Geng\n",
    "- 2014: Krishna Kumar, Owen Campbell, Dan Cartoon, Rob Miller, Davide Fossati, Biagio Gallo, Joel Hunt, Shinobu Yamada, Fredom Luo, Sejin Oh, Phaedon Sinis, Xinyuan Lai, Greg Mertz, Matt Mitchell\n",
    "- 2015: Eric Raymond, Stelios Andrew Stavroulakis, Richard Mendelsohn, Naithan Bosse, Alessio Bazzica, Karthik Yadati, Martha Larson, Stephen Hartzog, Philip Lee, Jaeyoung Choi, Matthew Gallagher, Yule Wu, Mark Renker, Rohit Ainapure, Eric Tarr, Allen Wu, Aaron Hipple\n",
    "- 2016: Arjun Kaul, Aditya Joglekar, Jennifer Smith, Trevor Welch, Ruoxi Zhang, Patricia Robinson, Xingxing Yang, David Heid, Gabriel Lamorie, Kaustuv Kanti Ganguli, Zhengyang Ma, Bernard Wang, Thomas Matthias, Alex Kintzer, Yutong Chen\n",
    "- 2017: Jace Mogill,\n",
    "Saarish Kareer,\n",
    "Adi Etsion,\n",
    "Jiawen Huang,\n",
    "John Neuharth,\n",
    "Jung Choi,\n",
    "Thomas D. Semah,\n",
    "David Wickland,\n",
    "Arvind Ramanathan,\n",
    "Steve Philbert,\n",
    "Peizhe Gao,\n",
    "Kimberly Kawczinski,\n",
    "Samuel Lowe,\n",
    "Eric Pérez Segura,\n",
    "Jennifer Smith,\n",
    "Evan Azevedo,\n",
    "Mark Goldstein,\n",
    "Robert Farrimond,\n",
    "Wayne Chen,\n",
    "Miguel Saldana,\n",
    "Shakib Ghassemieh,\n",
    "Cixian Lu,\n",
    "Kunwoo Kim,\n",
    "Han Han,\n",
    "Oscar Dub\n",
    "- 2018:\n",
    "Lindley Cannon,\n",
    "Kuangyi Lu,\n",
    "Aaron Kranzler,\n",
    "Edoardo Bucheli,\n",
    "Jeongbum Seo,\n",
    "Ted Moore,\n",
    "Jan Gryga,\n",
    "Alexander Tudor,\n",
    "Kai Xu,\n",
    "Kaiming Cheng,\n",
    "Jay Weiler\n",
    "\n"
   ]
  }
 ],
 "metadata": {
  "colab": {
   "name": "about_ccrma_workshop.ipynb",
   "provenance": []
  },
  "kernelspec": {
   "display_name": "Python 3 (ipykernel)",
   "language": "python",
   "name": "python3"
  },
  "language_info": {
   "codemirror_mode": {
    "name": "ipython",
    "version": 3
   },
   "file_extension": ".py",
   "mimetype": "text/x-python",
   "name": "python",
   "nbconvert_exporter": "python",
   "pygments_lexer": "ipython3",
   "version": "3.11.6"
  }
 },
 "nbformat": 4,
 "nbformat_minor": 4
}
