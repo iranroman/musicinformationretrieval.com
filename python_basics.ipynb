{
 "cells": [
  {
   "cell_type": "markdown",
   "metadata": {},
   "source": [
    "[&larr; Back to Index](index.html)"
   ]
  },
  {
   "cell_type": "markdown",
   "metadata": {},
   "source": [
    "# Python Basics"
   ]
  },
  {
   "cell_type": "markdown",
   "metadata": {},
   "source": [
    "## Why Python?"
   ]
  },
  {
   "cell_type": "markdown",
   "metadata": {},
   "source": [
    "[Python](https://python.org) is a general-purpose programming language that is popular and easy to use. For new programmers, it is a great choice as a first programming language. In fact, more and more university CS departments are centering their introductory courses around Python.\n",
    "\n",
    "For a summary of reasons to move from Matlab to Python, please read [this post](https://stevetjoa.com/305).\n",
    "\n",
    "This page on [Udacity](https://www.udacity.com/programming-languages/python) provides some more great reasons to use Python, along with resources for getting started."
   ]
  },
  {
   "cell_type": "markdown",
   "metadata": {},
   "source": [
    "## Tutorial"
   ]
  },
  {
   "cell_type": "markdown",
   "metadata": {},
   "source": [
    "If you are new to Python, please follow [The Python Tutorial](https://docs.python.org/2/tutorial/index.html).\n",
    "\n",
    "For the purposes of this workshop, be sure you understand the following sections:\n",
    "\n",
    "- Section 3: An Informal Introduction to Python\n",
    "- Section 4: More Control Flow Tools\n",
    "- Section 5: Data Structures\n",
    "\n",
    "While the other sections are useful, you can learn them along the way."
   ]
  },
  {
   "cell_type": "markdown",
   "metadata": {},
   "source": [
    "## Package Installation"
   ]
  },
  {
   "cell_type": "markdown",
   "metadata": {},
   "source": [
    "First, [make sure you have pip installed](https://pip.pypa.io/en/stable/installing/). pip is the recommended tool for installing Python packages."
   ]
  },
  {
   "cell_type": "markdown",
   "metadata": {},
   "source": [
    "To use the notebooks, you will need to install a few Python packages:\n",
    "\n",
    "    $ pip install --upgrade numpy scipy matplotlib ipython pandas sklearn librosa seaborn mir_eval ipywidgets"
   ]
  },
  {
   "cell_type": "markdown",
   "metadata": {},
   "source": [
    "## More Learning Resources"
   ]
  },
  {
   "cell_type": "markdown",
   "metadata": {},
   "source": [
    "-   [The Hitchhiker's Guide to Python](http://docs.python-guide.org/en/latest/)\n",
    "-   [SciPy Lecture Notes](http://www.scipy-lectures.org/)\n",
    "-   [Codecademy](http://www.codecademy.com/en/tracks/python)\n",
    "-   [learnpython.org](http://www.learnpython.org/)"
   ]
  },
  {
   "cell_type": "markdown",
   "metadata": {},
   "source": [
    "[&larr; Back to Index](index.html)"
   ]
  }
 ],
 "metadata": {
  "kernelspec": {
   "display_name": "Python 2",
   "language": "python",
   "name": "python2"
  },
  "language_info": {
   "codemirror_mode": {
    "name": "ipython",
    "version": 2
   },
   "file_extension": ".py",
   "mimetype": "text/x-python",
   "name": "python",
   "nbconvert_exporter": "python",
   "pygments_lexer": "ipython2",
   "version": "2.7.10"
  }
 },
 "nbformat": 4,
 "nbformat_minor": 0
}
