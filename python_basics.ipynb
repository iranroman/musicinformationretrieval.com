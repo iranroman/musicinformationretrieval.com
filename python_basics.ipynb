{
 "cells": [
  {
   "cell_type": "markdown",
   "metadata": {
    "id": "TAaDcm9KJMxV"
   },
   "source": [
    "[musicinformationretrieval.com](https://musicinformationretrieval.com)"
   ]
  },
  {
   "cell_type": "markdown",
   "metadata": {
    "id": "-JA3e5hBJMxb"
   },
   "source": [
    "# Python Basics and Dependencies"
   ]
  },
  {
   "cell_type": "markdown",
   "metadata": {
    "id": "ND_ARuTHJMxd"
   },
   "source": [
    "## Why Python?"
   ]
  },
  {
   "cell_type": "markdown",
   "metadata": {
    "id": "Ox4cw8T9JMxd"
   },
   "source": [
    "[Python](https://python.org) is a general-purpose programming language that is popular and easy to use. For new programmers, it is a great choice as a first programming language. In fact, more and more university CS departments are centering their introductory courses around Python."
   ]
  },
  {
   "cell_type": "markdown",
   "metadata": {
    "id": "Bd5cg9mSJMxf"
   },
   "source": [
    "## Tutorial"
   ]
  },
  {
   "cell_type": "markdown",
   "metadata": {
    "id": "7B1UeFn4JMxf"
   },
   "source": [
    "If you are new to Python, please follow [The Python Tutorial](https://docs.python.org/3/tutorial/index.html).\n",
    "\n",
    "For the purposes of this workshop, be sure you understand the following sections:\n",
    "\n",
    "- Section 3: An Informal Introduction to Python\n",
    "    - numbers: `int`, `float`\n",
    "    - strings\n",
    "    - lists\n",
    "- Section 4: More Control Flow Tools\n",
    "    - `if` statements\n",
    "    - `for` statements\n",
    "    - `range`\n",
    "    - functions\n",
    "- Section 5: Data Structures\n",
    "    - list comprehensions\n",
    "    - tuples\n",
    "    - dictionaries\n",
    "    - looping techniques\n",
    "\n",
    "While the other sections are useful, you can learn them along the way."
   ]
  },
  {
   "cell_type": "markdown",
   "metadata": {
    "id": "6FjexYlrJMxn"
   },
   "source": [
    "## More Learning Resources"
   ]
  },
  {
   "cell_type": "markdown",
   "metadata": {
    "id": "xwELDJtbJMxn"
   },
   "source": [
    "-   [The Hitchhiker's Guide to Python](http://docs.python-guide.org/en/latest/)\n",
    "-   [SciPy Lecture Notes](http://www.scipy-lectures.org/)\n",
    "-   [Codecademy](http://www.codecademy.com/en/tracks/python)\n",
    "-   [learnpython.org](http://www.learnpython.org/)"
   ]
  }
 ],
 "metadata": {
  "colab": {
   "name": "python_basics.ipynb",
   "provenance": []
  },
  "kernelspec": {
   "display_name": "Python 3 (ipykernel)",
   "language": "python",
   "name": "python3"
  },
  "language_info": {
   "codemirror_mode": {
    "name": "ipython",
    "version": 3
   },
   "file_extension": ".py",
   "mimetype": "text/x-python",
   "name": "python",
   "nbconvert_exporter": "python",
   "pygments_lexer": "ipython3",
   "version": "3.11.6"
  }
 },
 "nbformat": 4,
 "nbformat_minor": 4
}
