{
 "cells": [
  {
   "cell_type": "markdown",
   "metadata": {
    "id": "InbjXjTvFNvu"
   },
   "source": [
    "[musicinformationretrieval.com](https://musicinformationretrieval.com)"
   ]
  },
  {
   "cell_type": "markdown",
   "metadata": {
    "id": "8-96lY6cFNv2"
   },
   "source": [
    "Jupyter Basics\n",
    "======================="
   ]
  },
  {
   "cell_type": "markdown",
   "metadata": {
    "id": "UTA5ymz-FNv3"
   },
   "source": [
    "You are looking at a **Jupyter Notebook**, an interactive Python shell inside of a web browser. With it, you can run individual Python commands and immediately view their output.  It's basically like the Matlab Desktop or Mathematica Notebook but for Python.\n",
    "\n",
    "To start an interactive Jupyter notebook on your local machine, read the [instructions at the GitHub `README` for this repository](https://github.com/stevetjoa/stanford-mir#how-to-use-this-repo).\n",
    "\n",
    "If you are reading this notebook on <http://musicinformationretrieval.com>, you are viewing a read-only version of the notebook, not an interactive version. Therefore, the instructions below do not apply."
   ]
  },
  {
   "cell_type": "markdown",
   "metadata": {
    "id": "INXd7v0FFNv5"
   },
   "source": [
    "## Tour"
   ]
  },
  {
   "cell_type": "markdown",
   "metadata": {
    "id": "RoMqet0oFNv6"
   },
   "source": [
    "If you're new, we recommend that you take the *User Interface Tour* in the Help Menu above."
   ]
  },
  {
   "cell_type": "markdown",
   "metadata": {
    "id": "7dSGPc2KFNv6"
   },
   "source": [
    "## Cells"
   ]
  },
  {
   "cell_type": "markdown",
   "metadata": {
    "id": "FXxZpSc6FNv8"
   },
   "source": [
    "A Jupyter Notebook is comprised of **cells**. Cells are just small units of code or text. For example, the text that you are reading is inside a *Markdown* cell. (More on that later.)\n",
    "\n",
    "*Code* cells allow you to edit, execute, and analyze small portions of Python code at a time. Here is a code cell:"
   ]
  },
  {
   "cell_type": "code",
   "execution_count": 1,
   "metadata": {
    "colab": {
     "base_uri": "https://localhost:8080/"
    },
    "id": "f1viUHl5FNv9",
    "outputId": "52e621c2-7610-416f-a0ac-13ef07c92a4d"
   },
   "outputs": [
    {
     "data": {
      "text/plain": [
       "3"
      ]
     },
     "execution_count": 1,
     "metadata": {},
     "output_type": "execute_result"
    }
   ],
   "source": [
    "1+2"
   ]
  },
  {
   "cell_type": "markdown",
   "metadata": {
    "id": "gS5fAkFlFNwB"
   },
   "source": [
    "## Modes"
   ]
  },
  {
   "cell_type": "markdown",
   "metadata": {
    "id": "pqj17aC8FNwD"
   },
   "source": [
    "The Jupyter Notebook has two different keyboard input modes. \n",
    "\n",
    "In **Edit Mode**, you type code/text into a cell. Edit Mode is indicated by a *green* cell border. \n",
    "\n",
    "To enter Edit Mode from Command Mode, press `Enter`. You can also double-click on a cell.\n",
    "\n",
    "To execute the code inside of a cell and move to the next cell, press **`Shift-Enter`**. (`Ctrl-Enter` will run the current cell without moving to the next cell. This is useful for rapidly tweaking the current cell.)\n",
    "\n",
    "In **Command Mode**, you can perform notebook level actions such as navigating among cells, selecting cells, moving cells, saving notebooks, displaying help. Command Mode is indicated by a *grey* cell border. \n",
    "\n",
    "To enter Command Mode from Edit Mode, press **`Esc`**. Other commands can also enter Command Mode, e.g. `Shift-Enter`.\n",
    "\n",
    "To display the Help Menu from Command Mode, press **`h`**. *Use it often*; `h` is your best friend."
   ]
  },
  {
   "cell_type": "markdown",
   "metadata": {
    "id": "eq7kuGMaFNwE"
   },
   "source": [
    "## Saving"
   ]
  },
  {
   "cell_type": "markdown",
   "metadata": {
    "id": "FIgSuongFNwF"
   },
   "source": [
    "Your code goes directly into a Jupyter notebook. To save your changes, click on the \"Save\" icon in the menu bar, or type **`s`** in command mode.\n",
    "\n",
    "If this notebook is in a Git repo, use `git checkout -- <file>` to revert a saved edit."
   ]
  },
  {
   "cell_type": "markdown",
   "metadata": {
    "id": "1jdg3DaAFNwG"
   },
   "source": [
    "## Writing Text in Markdown"
   ]
  },
  {
   "cell_type": "markdown",
   "metadata": {
    "id": "mndKCUwmFNwG"
   },
   "source": [
    "Markdown is simply a fancy way of formatting plain text. It is a markup language that is a superset of HTML. The Markdown specification is found here: http://daringfireball.net/projects/markdown/basics/"
   ]
  },
  {
   "cell_type": "markdown",
   "metadata": {
    "id": "ahfM0NerFNwH"
   },
   "source": [
    "A cell may contain Python code or Markdown code. To convert any Python cell to a Markdown cell, press **`m`**. To convert from a Markdown cell to a Python cell, press **`y`**."
   ]
  },
  {
   "cell_type": "markdown",
   "metadata": {
    "id": "qTxo9wfGFNwL"
   },
   "source": [
    "For headings, we recommend that you use Jupyter's keyboard shortcuts. To change the text in a cell to a level-3 header, simply press `3`. For similar commands, press **`h`** to view the Help menu."
   ]
  },
  {
   "cell_type": "markdown",
   "metadata": {
    "id": "TK7KgGmvFNwM"
   },
   "source": [
    "## Writing Text in $\\LaTeX$"
   ]
  },
  {
   "cell_type": "markdown",
   "metadata": {
    "id": "4z-n23QhFNwM"
   },
   "source": [
    "In a Markdown cell, you can also use $\\LaTeX$ syntax. Example input:"
   ]
  },
  {
   "cell_type": "markdown",
   "metadata": {
    "id": "opKqqOSbFNwN"
   },
   "source": [
    "    $$ \\max_{||w||=1} \\sum_{i=1}^{N} \\big| \\langle w, x_i - m \\rangle \\big|^2 $$"
   ]
  },
  {
   "cell_type": "markdown",
   "metadata": {
    "id": "80OH7UMLFNwN"
   },
   "source": [
    "Output:"
   ]
  },
  {
   "cell_type": "markdown",
   "metadata": {
    "id": "wdposK1iFNwO"
   },
   "source": [
    "$$ \\max_{||w||=1} \\sum_{i=1}^{N} \\big| \\langle w, x_i - m \\rangle \\big|^2 $$"
   ]
  },
  {
   "cell_type": "markdown",
   "metadata": {
    "id": "o73Ur10lFNwO"
   },
   "source": [
    "## Imports"
   ]
  },
  {
   "cell_type": "markdown",
   "metadata": {
    "id": "ryOIut2RFNwP"
   },
   "source": [
    "You may encounter the following imports while using this website:"
   ]
  },
  {
   "cell_type": "code",
   "execution_count": 2,
   "metadata": {
    "id": "VySDZAmbFNwR"
   },
   "outputs": [],
   "source": [
    "import numpy\n",
    "import scipy\n",
    "import pandas\n",
    "import sklearn\n",
    "import seaborn\n",
    "import matplotlib\n",
    "import matplotlib.pyplot as plt\n",
    "import librosa\n",
    "import librosa.display\n",
    "import IPython.display as ipd"
   ]
  },
  {
   "cell_type": "markdown",
   "metadata": {
    "id": "3nP8K8PqFNwS"
   },
   "source": [
    "You can also combine imports on one line:"
   ]
  },
  {
   "cell_type": "code",
   "execution_count": 3,
   "metadata": {
    "id": "XQU7ti1RFNwY"
   },
   "outputs": [],
   "source": [
    "import numpy, scipy, pandas"
   ]
  },
  {
   "cell_type": "markdown",
   "metadata": {
    "id": "50e5u0-NFNwZ"
   },
   "source": [
    "## Tab Autocompletion"
   ]
  },
  {
   "cell_type": "markdown",
   "metadata": {
    "id": "SFK4n1kMFNwZ"
   },
   "source": [
    "Tab autocompletion works in Command Window and the Editor.  After you type a few letters, press the `Tab` key and a popup will appear and show you all of the possible completions, including variable names and functions.  This prevents you from mistyping the names of variables -- a big time saver! \n",
    "     \n",
    "For example, type `scipy.` and then press `Tab`. You should see a list of members in the Python package `scipy`.\n",
    "\n",
    "Or type `scipy.sin`, then press `Tab` to view members that begin with `sin`."
   ]
  },
  {
   "cell_type": "code",
   "execution_count": 4,
   "metadata": {
    "colab": {
     "base_uri": "https://localhost:8080/"
    },
    "id": "15rOpF9bFNwa",
    "outputId": "ec9693ff-5375-4462-e48e-fc392974c452"
   },
   "outputs": [
    {
     "data": {
      "text/plain": [
       "<function scipy._lib.deprecation._deprecated.<locals>.wrap.<locals>.call>"
      ]
     },
     "execution_count": 4,
     "metadata": {},
     "output_type": "execute_result"
    }
   ],
   "source": [
    "# Press Tab at the end of the following line\n",
    "scipy.sin"
   ]
  },
  {
   "cell_type": "markdown",
   "metadata": {
    "id": "3JZkmclVFNwa"
   },
   "source": [
    "## Inline Documentation"
   ]
  },
  {
   "cell_type": "markdown",
   "metadata": {
    "id": "o8i2urJhFNwb"
   },
   "source": [
    "To get help on a certain Python object, type `?` after the object name, and run the cell:"
   ]
  },
  {
   "cell_type": "code",
   "execution_count": 5,
   "metadata": {
    "id": "q0G5ytPxFNwb"
   },
   "outputs": [
    {
     "data": {
      "text/plain": [
       "\u001b[0;31mInit signature:\u001b[0m \u001b[0mint\u001b[0m\u001b[0;34m(\u001b[0m\u001b[0mself\u001b[0m\u001b[0;34m,\u001b[0m \u001b[0;34m/\u001b[0m\u001b[0;34m,\u001b[0m \u001b[0;34m*\u001b[0m\u001b[0margs\u001b[0m\u001b[0;34m,\u001b[0m \u001b[0;34m**\u001b[0m\u001b[0mkwargs\u001b[0m\u001b[0;34m)\u001b[0m\u001b[0;34m\u001b[0m\u001b[0;34m\u001b[0m\u001b[0m\n",
       "\u001b[0;31mDocstring:\u001b[0m     \n",
       "int([x]) -> integer\n",
       "int(x, base=10) -> integer\n",
       "\n",
       "Convert a number or string to an integer, or return 0 if no arguments\n",
       "are given.  If x is a number, return x.__int__().  For floating point\n",
       "numbers, this truncates towards zero.\n",
       "\n",
       "If x is not a number or if base is given, then x must be a string,\n",
       "bytes, or bytearray instance representing an integer literal in the\n",
       "given base.  The literal can be preceded by '+' or '-' and be surrounded\n",
       "by whitespace.  The base defaults to 10.  Valid bases are 0 and 2-36.\n",
       "Base 0 means to interpret the base from the string as an integer literal.\n",
       ">>> int('0b100', base=0)\n",
       "4\n",
       "\u001b[0;31mType:\u001b[0m           type\n",
       "\u001b[0;31mSubclasses:\u001b[0m     bool, IntEnum, IntFlag, _NamedIntConstant"
      ]
     },
     "metadata": {},
     "output_type": "display_data"
    }
   ],
   "source": [
    "# Run this cell.\n",
    "int?"
   ]
  },
  {
   "cell_type": "markdown",
   "metadata": {
    "id": "bWrizP_fFNwe"
   },
   "source": [
    "In addition, if you press `Shift-Tab` in a code cell, a help dialog will also appear. For example, in the cell above, place your cursor after `int`, and press `Shift-Tab`. Press `Shift-Tab` twice to expand the help dialog."
   ]
  },
  {
   "cell_type": "markdown",
   "metadata": {
    "id": "s3FEvkQTFNwe"
   },
   "source": [
    "## More Documentation: NumPy, SciPy, Matplotlib"
   ]
  },
  {
   "cell_type": "markdown",
   "metadata": {
    "id": "U46Uf_UIFNwe"
   },
   "source": [
    "In the top menu bar, click on Help, and you'll find a prepared set of documentation links for IPython, NumPy, SciPy, Matplotlib, and Pandas."
   ]
  },
  {
   "cell_type": "markdown",
   "metadata": {
    "id": "KpGr8ssBFNwf"
   },
   "source": [
    "## Experimenting"
   ]
  },
  {
   "cell_type": "markdown",
   "metadata": {
    "id": "l--OqSq0FNwf"
   },
   "source": [
    "Code cells are meant to be interactive. We may present you with several options for experimentation, e.g. choices of variables, audio files, and algorithms. For example, if you see a cell like this, then try all of the possible options by uncommenting the desired line(s) of code. (To run the cell, select \"Cell\" and \"Run\" from the top menu, or press `Shift-Enter`.)"
   ]
  },
  {
   "cell_type": "code",
   "execution_count": 6,
   "metadata": {
    "colab": {
     "base_uri": "https://localhost:8080/"
    },
    "id": "h5ZAPppoFNwg",
    "outputId": "0b8fda3e-30af-40b2-acb5-dfbe899f57e9"
   },
   "outputs": [
    {
     "data": {
      "text/plain": [
       "array([ 0,  1,  2,  3,  4,  5,  6,  7,  8,  9, 10, 11, 12, 13, 14, 15, 16,\n",
       "       17, 18, 19, 20, 21, 22, 23, 24, 25, 26, 27, 28, 29, 30, 31, 32, 33,\n",
       "       34, 35, 36, 37, 38, 39, 40, 41, 42, 43, 44, 45, 46, 47, 48, 49])"
      ]
     },
     "execution_count": 6,
     "metadata": {},
     "output_type": "execute_result"
    }
   ],
   "source": [
    "x = numpy.arange(50)\n",
    "# Try these too:\n",
    "# x = scipy.randn(50)\n",
    "# x = scipy.linspace(0, 1, 50, endpoint=False)\n",
    "x"
   ]
  },
  {
   "cell_type": "code",
   "execution_count": null,
   "metadata": {},
   "outputs": [],
   "source": []
  }
 ],
 "metadata": {
  "colab": {
   "name": "get_good_at_ipython.ipynb",
   "provenance": []
  },
  "kernelspec": {
   "display_name": "Python 3 (ipykernel)",
   "language": "python",
   "name": "python3"
  },
  "language_info": {
   "codemirror_mode": {
    "name": "ipython",
    "version": 3
   },
   "file_extension": ".py",
   "mimetype": "text/x-python",
   "name": "python",
   "nbconvert_exporter": "python",
   "pygments_lexer": "ipython3",
   "version": "3.11.6"
  }
 },
 "nbformat": 4,
 "nbformat_minor": 4
}
